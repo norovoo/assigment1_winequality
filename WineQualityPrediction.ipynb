{
 "cells": [
  {
   "cell_type": "code",
   "execution_count": 11,
   "metadata": {
    "collapsed": true
   },
   "outputs": [
    {
     "data": {
      "text/plain": "       fixed acidity  volatile acidity  citric acid  residual sugar  \\\ncount    1599.000000       1599.000000  1599.000000     1599.000000   \nmean        8.319637          0.527821     0.270976        2.538806   \nstd         1.741096          0.179060     0.194801        1.409928   \nmin         4.600000          0.120000     0.000000        0.900000   \n25%         7.100000          0.390000     0.090000        1.900000   \n50%         7.900000          0.520000     0.260000        2.200000   \n75%         9.200000          0.640000     0.420000        2.600000   \nmax        15.900000          1.580000     1.000000       15.500000   \n\n         chlorides  free sulfur dioxide  total sulfur dioxide      density  \\\ncount  1599.000000          1599.000000           1599.000000  1599.000000   \nmean      0.087467            15.874922             46.467792     0.996747   \nstd       0.047065            10.460157             32.895324     0.001887   \nmin       0.012000             1.000000              6.000000     0.990070   \n25%       0.070000             7.000000             22.000000     0.995600   \n50%       0.079000            14.000000             38.000000     0.996750   \n75%       0.090000            21.000000             62.000000     0.997835   \nmax       0.611000            72.000000            289.000000     1.003690   \n\n                pH    sulphates      alcohol      quality  \ncount  1599.000000  1599.000000  1599.000000  1599.000000  \nmean      3.311113     0.658149    10.422983     5.636023  \nstd       0.154386     0.169507     1.065668     0.807569  \nmin       2.740000     0.330000     8.400000     3.000000  \n25%       3.210000     0.550000     9.500000     5.000000  \n50%       3.310000     0.620000    10.200000     6.000000  \n75%       3.400000     0.730000    11.100000     6.000000  \nmax       4.010000     2.000000    14.900000     8.000000  ",
      "text/html": "<div>\n<style scoped>\n    .dataframe tbody tr th:only-of-type {\n        vertical-align: middle;\n    }\n\n    .dataframe tbody tr th {\n        vertical-align: top;\n    }\n\n    .dataframe thead th {\n        text-align: right;\n    }\n</style>\n<table border=\"1\" class=\"dataframe\">\n  <thead>\n    <tr style=\"text-align: right;\">\n      <th></th>\n      <th>fixed acidity</th>\n      <th>volatile acidity</th>\n      <th>citric acid</th>\n      <th>residual sugar</th>\n      <th>chlorides</th>\n      <th>free sulfur dioxide</th>\n      <th>total sulfur dioxide</th>\n      <th>density</th>\n      <th>pH</th>\n      <th>sulphates</th>\n      <th>alcohol</th>\n      <th>quality</th>\n    </tr>\n  </thead>\n  <tbody>\n    <tr>\n      <th>count</th>\n      <td>1599.000000</td>\n      <td>1599.000000</td>\n      <td>1599.000000</td>\n      <td>1599.000000</td>\n      <td>1599.000000</td>\n      <td>1599.000000</td>\n      <td>1599.000000</td>\n      <td>1599.000000</td>\n      <td>1599.000000</td>\n      <td>1599.000000</td>\n      <td>1599.000000</td>\n      <td>1599.000000</td>\n    </tr>\n    <tr>\n      <th>mean</th>\n      <td>8.319637</td>\n      <td>0.527821</td>\n      <td>0.270976</td>\n      <td>2.538806</td>\n      <td>0.087467</td>\n      <td>15.874922</td>\n      <td>46.467792</td>\n      <td>0.996747</td>\n      <td>3.311113</td>\n      <td>0.658149</td>\n      <td>10.422983</td>\n      <td>5.636023</td>\n    </tr>\n    <tr>\n      <th>std</th>\n      <td>1.741096</td>\n      <td>0.179060</td>\n      <td>0.194801</td>\n      <td>1.409928</td>\n      <td>0.047065</td>\n      <td>10.460157</td>\n      <td>32.895324</td>\n      <td>0.001887</td>\n      <td>0.154386</td>\n      <td>0.169507</td>\n      <td>1.065668</td>\n      <td>0.807569</td>\n    </tr>\n    <tr>\n      <th>min</th>\n      <td>4.600000</td>\n      <td>0.120000</td>\n      <td>0.000000</td>\n      <td>0.900000</td>\n      <td>0.012000</td>\n      <td>1.000000</td>\n      <td>6.000000</td>\n      <td>0.990070</td>\n      <td>2.740000</td>\n      <td>0.330000</td>\n      <td>8.400000</td>\n      <td>3.000000</td>\n    </tr>\n    <tr>\n      <th>25%</th>\n      <td>7.100000</td>\n      <td>0.390000</td>\n      <td>0.090000</td>\n      <td>1.900000</td>\n      <td>0.070000</td>\n      <td>7.000000</td>\n      <td>22.000000</td>\n      <td>0.995600</td>\n      <td>3.210000</td>\n      <td>0.550000</td>\n      <td>9.500000</td>\n      <td>5.000000</td>\n    </tr>\n    <tr>\n      <th>50%</th>\n      <td>7.900000</td>\n      <td>0.520000</td>\n      <td>0.260000</td>\n      <td>2.200000</td>\n      <td>0.079000</td>\n      <td>14.000000</td>\n      <td>38.000000</td>\n      <td>0.996750</td>\n      <td>3.310000</td>\n      <td>0.620000</td>\n      <td>10.200000</td>\n      <td>6.000000</td>\n    </tr>\n    <tr>\n      <th>75%</th>\n      <td>9.200000</td>\n      <td>0.640000</td>\n      <td>0.420000</td>\n      <td>2.600000</td>\n      <td>0.090000</td>\n      <td>21.000000</td>\n      <td>62.000000</td>\n      <td>0.997835</td>\n      <td>3.400000</td>\n      <td>0.730000</td>\n      <td>11.100000</td>\n      <td>6.000000</td>\n    </tr>\n    <tr>\n      <th>max</th>\n      <td>15.900000</td>\n      <td>1.580000</td>\n      <td>1.000000</td>\n      <td>15.500000</td>\n      <td>0.611000</td>\n      <td>72.000000</td>\n      <td>289.000000</td>\n      <td>1.003690</td>\n      <td>4.010000</td>\n      <td>2.000000</td>\n      <td>14.900000</td>\n      <td>8.000000</td>\n    </tr>\n  </tbody>\n</table>\n</div>"
     },
     "execution_count": 11,
     "metadata": {},
     "output_type": "execute_result"
    }
   ],
   "source": [
    "import pandas as pd\n",
    "import matplotlib as mt\n",
    "\n",
    "\n",
    "from sklearn.tree import DecisionTreeClassifier\n",
    "from sklearn.model_selection import train_test_split\n",
    "from sklearn.metrics import accuracy_score\n",
    "from sklearn import tree\n",
    "\n",
    "redWineData = pd.read_csv('./winequality-red.csv', delimiter=';', index_col=False)\n",
    "redWineData.describe()\n"
   ]
  },
  {
   "cell_type": "code",
   "execution_count": 12,
   "outputs": [
    {
     "data": {
      "text/plain": "<bound method DataFrame.info of       fixed acidity  volatile acidity  citric acid  residual sugar  chlorides  \\\n0               7.4             0.700         0.00             1.9      0.076   \n1               7.8             0.880         0.00             2.6      0.098   \n2               7.8             0.760         0.04             2.3      0.092   \n3              11.2             0.280         0.56             1.9      0.075   \n4               7.4             0.700         0.00             1.9      0.076   \n...             ...               ...          ...             ...        ...   \n1594            6.2             0.600         0.08             2.0      0.090   \n1595            5.9             0.550         0.10             2.2      0.062   \n1596            6.3             0.510         0.13             2.3      0.076   \n1597            5.9             0.645         0.12             2.0      0.075   \n1598            6.0             0.310         0.47             3.6      0.067   \n\n      free sulfur dioxide  total sulfur dioxide  density    pH  sulphates  \\\n0                    11.0                  34.0  0.99780  3.51       0.56   \n1                    25.0                  67.0  0.99680  3.20       0.68   \n2                    15.0                  54.0  0.99700  3.26       0.65   \n3                    17.0                  60.0  0.99800  3.16       0.58   \n4                    11.0                  34.0  0.99780  3.51       0.56   \n...                   ...                   ...      ...   ...        ...   \n1594                 32.0                  44.0  0.99490  3.45       0.58   \n1595                 39.0                  51.0  0.99512  3.52       0.76   \n1596                 29.0                  40.0  0.99574  3.42       0.75   \n1597                 32.0                  44.0  0.99547  3.57       0.71   \n1598                 18.0                  42.0  0.99549  3.39       0.66   \n\n      alcohol  quality  \n0         9.4        5  \n1         9.8        5  \n2         9.8        5  \n3         9.8        6  \n4         9.4        5  \n...       ...      ...  \n1594     10.5        5  \n1595     11.2        6  \n1596     11.0        6  \n1597     10.2        5  \n1598     11.0        6  \n\n[1599 rows x 12 columns]>"
     },
     "execution_count": 12,
     "metadata": {},
     "output_type": "execute_result"
    }
   ],
   "source": [
    "redWineData.info"
   ],
   "metadata": {
    "collapsed": false,
    "pycharm": {
     "name": "#%%\n"
    }
   }
  },
  {
   "cell_type": "code",
   "execution_count": 13,
   "outputs": [
    {
     "data": {
      "text/plain": "        fixed acidity                   volatile acidity                     \\\n                count      mean     sum            count      mean      sum   \nquality                                                                       \n3                  10  8.360000    83.6               10  0.884500    8.845   \n4                  53  7.779245   412.3               53  0.693962   36.780   \n5                 681  8.167254  5561.9              681  0.577041  392.965   \n6                 638  8.347179  5325.5              638  0.497484  317.395   \n7                 199  8.872362  1765.6              199  0.403920   80.380   \n8                  18  8.566667   154.2               18  0.423333    7.620   \n\n        citric acid                   residual sugar  ...    density    pH  \\\n              count      mean     sum          count  ...        sum count   \nquality                                               ...                    \n3                10  0.171000    1.71             10  ...    9.97464    10   \n4                53  0.174151    9.23             53  ...   52.81675    53   \n5               681  0.243686  165.95            681  ...  679.02757   681   \n6               638  0.273824  174.70            638  ...  635.84041   638   \n7               199  0.375176   74.66            199  ...  198.22475   199   \n8                18  0.391111    7.04             18  ...   17.91382    18   \n\n                           sulphates                   alcohol             \\\n             mean      sum     count      mean     sum   count       mean   \nquality                                                                     \n3        3.398000    33.98        10  0.570000    5.70      10   9.955000   \n4        3.381509   179.22        53  0.596415   31.61      53  10.265094   \n5        3.304949  2250.67       681  0.620969  422.88     681   9.899706   \n6        3.318072  2116.93       638  0.675329  430.86     638  10.629519   \n7        3.290754   654.86       199  0.741256  147.51     199  11.465913   \n8        3.267222    58.81        18  0.767778   13.82      18  12.094444   \n\n                      \n                 sum  \nquality               \n3          99.550000  \n4         544.050000  \n5        6741.700000  \n6        6781.633333  \n7        2281.716667  \n8         217.700000  \n\n[6 rows x 33 columns]",
      "text/html": "<div>\n<style scoped>\n    .dataframe tbody tr th:only-of-type {\n        vertical-align: middle;\n    }\n\n    .dataframe tbody tr th {\n        vertical-align: top;\n    }\n\n    .dataframe thead tr th {\n        text-align: left;\n    }\n\n    .dataframe thead tr:last-of-type th {\n        text-align: right;\n    }\n</style>\n<table border=\"1\" class=\"dataframe\">\n  <thead>\n    <tr>\n      <th></th>\n      <th colspan=\"3\" halign=\"left\">fixed acidity</th>\n      <th colspan=\"3\" halign=\"left\">volatile acidity</th>\n      <th colspan=\"3\" halign=\"left\">citric acid</th>\n      <th>residual sugar</th>\n      <th>...</th>\n      <th>density</th>\n      <th colspan=\"3\" halign=\"left\">pH</th>\n      <th colspan=\"3\" halign=\"left\">sulphates</th>\n      <th colspan=\"3\" halign=\"left\">alcohol</th>\n    </tr>\n    <tr>\n      <th></th>\n      <th>count</th>\n      <th>mean</th>\n      <th>sum</th>\n      <th>count</th>\n      <th>mean</th>\n      <th>sum</th>\n      <th>count</th>\n      <th>mean</th>\n      <th>sum</th>\n      <th>count</th>\n      <th>...</th>\n      <th>sum</th>\n      <th>count</th>\n      <th>mean</th>\n      <th>sum</th>\n      <th>count</th>\n      <th>mean</th>\n      <th>sum</th>\n      <th>count</th>\n      <th>mean</th>\n      <th>sum</th>\n    </tr>\n    <tr>\n      <th>quality</th>\n      <th></th>\n      <th></th>\n      <th></th>\n      <th></th>\n      <th></th>\n      <th></th>\n      <th></th>\n      <th></th>\n      <th></th>\n      <th></th>\n      <th></th>\n      <th></th>\n      <th></th>\n      <th></th>\n      <th></th>\n      <th></th>\n      <th></th>\n      <th></th>\n      <th></th>\n      <th></th>\n      <th></th>\n    </tr>\n  </thead>\n  <tbody>\n    <tr>\n      <th>3</th>\n      <td>10</td>\n      <td>8.360000</td>\n      <td>83.6</td>\n      <td>10</td>\n      <td>0.884500</td>\n      <td>8.845</td>\n      <td>10</td>\n      <td>0.171000</td>\n      <td>1.71</td>\n      <td>10</td>\n      <td>...</td>\n      <td>9.97464</td>\n      <td>10</td>\n      <td>3.398000</td>\n      <td>33.98</td>\n      <td>10</td>\n      <td>0.570000</td>\n      <td>5.70</td>\n      <td>10</td>\n      <td>9.955000</td>\n      <td>99.550000</td>\n    </tr>\n    <tr>\n      <th>4</th>\n      <td>53</td>\n      <td>7.779245</td>\n      <td>412.3</td>\n      <td>53</td>\n      <td>0.693962</td>\n      <td>36.780</td>\n      <td>53</td>\n      <td>0.174151</td>\n      <td>9.23</td>\n      <td>53</td>\n      <td>...</td>\n      <td>52.81675</td>\n      <td>53</td>\n      <td>3.381509</td>\n      <td>179.22</td>\n      <td>53</td>\n      <td>0.596415</td>\n      <td>31.61</td>\n      <td>53</td>\n      <td>10.265094</td>\n      <td>544.050000</td>\n    </tr>\n    <tr>\n      <th>5</th>\n      <td>681</td>\n      <td>8.167254</td>\n      <td>5561.9</td>\n      <td>681</td>\n      <td>0.577041</td>\n      <td>392.965</td>\n      <td>681</td>\n      <td>0.243686</td>\n      <td>165.95</td>\n      <td>681</td>\n      <td>...</td>\n      <td>679.02757</td>\n      <td>681</td>\n      <td>3.304949</td>\n      <td>2250.67</td>\n      <td>681</td>\n      <td>0.620969</td>\n      <td>422.88</td>\n      <td>681</td>\n      <td>9.899706</td>\n      <td>6741.700000</td>\n    </tr>\n    <tr>\n      <th>6</th>\n      <td>638</td>\n      <td>8.347179</td>\n      <td>5325.5</td>\n      <td>638</td>\n      <td>0.497484</td>\n      <td>317.395</td>\n      <td>638</td>\n      <td>0.273824</td>\n      <td>174.70</td>\n      <td>638</td>\n      <td>...</td>\n      <td>635.84041</td>\n      <td>638</td>\n      <td>3.318072</td>\n      <td>2116.93</td>\n      <td>638</td>\n      <td>0.675329</td>\n      <td>430.86</td>\n      <td>638</td>\n      <td>10.629519</td>\n      <td>6781.633333</td>\n    </tr>\n    <tr>\n      <th>7</th>\n      <td>199</td>\n      <td>8.872362</td>\n      <td>1765.6</td>\n      <td>199</td>\n      <td>0.403920</td>\n      <td>80.380</td>\n      <td>199</td>\n      <td>0.375176</td>\n      <td>74.66</td>\n      <td>199</td>\n      <td>...</td>\n      <td>198.22475</td>\n      <td>199</td>\n      <td>3.290754</td>\n      <td>654.86</td>\n      <td>199</td>\n      <td>0.741256</td>\n      <td>147.51</td>\n      <td>199</td>\n      <td>11.465913</td>\n      <td>2281.716667</td>\n    </tr>\n    <tr>\n      <th>8</th>\n      <td>18</td>\n      <td>8.566667</td>\n      <td>154.2</td>\n      <td>18</td>\n      <td>0.423333</td>\n      <td>7.620</td>\n      <td>18</td>\n      <td>0.391111</td>\n      <td>7.04</td>\n      <td>18</td>\n      <td>...</td>\n      <td>17.91382</td>\n      <td>18</td>\n      <td>3.267222</td>\n      <td>58.81</td>\n      <td>18</td>\n      <td>0.767778</td>\n      <td>13.82</td>\n      <td>18</td>\n      <td>12.094444</td>\n      <td>217.700000</td>\n    </tr>\n  </tbody>\n</table>\n<p>6 rows × 33 columns</p>\n</div>"
     },
     "execution_count": 13,
     "metadata": {},
     "output_type": "execute_result"
    }
   ],
   "source": [
    "redWineData.groupby(['quality']).agg(['count','mean', 'sum'])"
   ],
   "metadata": {
    "collapsed": false,
    "pycharm": {
     "name": "#%%\n"
    }
   }
  },
  {
   "cell_type": "code",
   "execution_count": 14,
   "outputs": [],
   "source": [
    "#Desition tree implementation"
   ],
   "metadata": {
    "collapsed": false,
    "pycharm": {
     "name": "#%%\n"
    }
   }
  },
  {
   "cell_type": "code",
   "execution_count": 15,
   "outputs": [
    {
     "data": {
      "text/plain": "0.634375"
     },
     "execution_count": 15,
     "metadata": {},
     "output_type": "execute_result"
    }
   ],
   "source": [
    "X = redWineData.drop(columns=['quality'])\n",
    "y = redWineData['quality']\n",
    "\n",
    "X_train, X_test, y_train, y_test = train_test_split(X,y, test_size=\n",
    "                                                     0.2)\n",
    "\n",
    "wineEvaluateModel = DecisionTreeClassifier()\n",
    "wineEvaluateModel.fit(X_train,y_train)\n",
    "prediction = wineEvaluateModel.predict(X_test)\n",
    "prediction\n",
    "score = accuracy_score(y_test,prediction)\n",
    "score"
   ],
   "metadata": {
    "collapsed": false,
    "pycharm": {
     "name": "#%%\n"
    }
   }
  },
  {
   "cell_type": "code",
   "execution_count": 16,
   "outputs": [],
   "source": [
    "#SNN model implementation"
   ],
   "metadata": {
    "collapsed": false,
    "pycharm": {
     "name": "#%%\n"
    }
   }
  },
  {
   "cell_type": "code",
   "execution_count": 17,
   "outputs": [
    {
     "data": {
      "text/plain": "0.634375"
     },
     "execution_count": 17,
     "metadata": {},
     "output_type": "execute_result"
    }
   ],
   "source": [
    "from sklearn.neighbors import KNeighborsClassifier\n",
    "\n",
    "knn = KNeighborsClassifier(n_neighbors=7)\n",
    "knn.fit(X_train, y_train)\n",
    "predict1 = knn.predict(X_test)\n",
    "score1 = accuracy_score(y_test, predict1)\n",
    "score"
   ],
   "metadata": {
    "collapsed": false,
    "pycharm": {
     "name": "#%%\n"
    }
   }
  }
 ],
 "metadata": {
  "kernelspec": {
   "display_name": "Python 3",
   "language": "python",
   "name": "python3"
  },
  "language_info": {
   "codemirror_mode": {
    "name": "ipython",
    "version": 2
   },
   "file_extension": ".py",
   "mimetype": "text/x-python",
   "name": "python",
   "nbconvert_exporter": "python",
   "pygments_lexer": "ipython2",
   "version": "2.7.6"
  }
 },
 "nbformat": 4,
 "nbformat_minor": 0
}